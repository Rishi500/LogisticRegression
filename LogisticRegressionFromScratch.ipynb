{
  "cells": [
    {
      "metadata": {
        "_uuid": "8f2839f25d086af736a60e9eeb907d3b93b6e0e5",
        "_cell_guid": "b1076dfc-b9ad-4769-8c92-a6c4dae69d19",
        "trusted": true,
        "collapsed": true
      },
      "cell_type": "code",
      "source": "import numpy as np \nimport pandas as pd ",
      "execution_count": 13,
      "outputs": []
    },
    {
      "metadata": {
        "_cell_guid": "79c7e3d0-c299-4dcb-8224-4455121ee9b0",
        "_uuid": "d629ff2d2480ee46fbb7e2d37f6b5fab8052498a",
        "trusted": true
      },
      "cell_type": "code",
      "source": "data = pd.read_csv('../input/Social_Network_Ads.csv')\ndata.drop(columns=['User ID','Gender',],axis=1,inplace=True)\ndata.head()",
      "execution_count": 14,
      "outputs": [
        {
          "output_type": "execute_result",
          "execution_count": 14,
          "data": {
            "text/plain": "   Age  EstimatedSalary  Purchased\n0   19            19000          0\n1   35            20000          0\n2   26            43000          0\n3   27            57000          0\n4   19            76000          0",
            "text/html": "<div>\n<style scoped>\n    .dataframe tbody tr th:only-of-type {\n        vertical-align: middle;\n    }\n\n    .dataframe tbody tr th {\n        vertical-align: top;\n    }\n\n    .dataframe thead th {\n        text-align: right;\n    }\n</style>\n<table border=\"1\" class=\"dataframe\">\n  <thead>\n    <tr style=\"text-align: right;\">\n      <th></th>\n      <th>Age</th>\n      <th>EstimatedSalary</th>\n      <th>Purchased</th>\n    </tr>\n  </thead>\n  <tbody>\n    <tr>\n      <th>0</th>\n      <td>19</td>\n      <td>19000</td>\n      <td>0</td>\n    </tr>\n    <tr>\n      <th>1</th>\n      <td>35</td>\n      <td>20000</td>\n      <td>0</td>\n    </tr>\n    <tr>\n      <th>2</th>\n      <td>26</td>\n      <td>43000</td>\n      <td>0</td>\n    </tr>\n    <tr>\n      <th>3</th>\n      <td>27</td>\n      <td>57000</td>\n      <td>0</td>\n    </tr>\n    <tr>\n      <th>4</th>\n      <td>19</td>\n      <td>76000</td>\n      <td>0</td>\n    </tr>\n  </tbody>\n</table>\n</div>"
          },
          "metadata": {}
        }
      ]
    },
    {
      "metadata": {
        "trusted": true,
        "collapsed": true,
        "_uuid": "4cb45e28344e7e245ab398e9f4f5272ef21d2129"
      },
      "cell_type": "code",
      "source": "y = data.iloc[:,-1].values",
      "execution_count": 15,
      "outputs": []
    },
    {
      "metadata": {
        "trusted": true,
        "_uuid": "2e7a145fa49435ad9578ec2827f76a70cc99f2e1",
        "collapsed": true
      },
      "cell_type": "code",
      "source": "X = data.iloc[:,:-1].values",
      "execution_count": 16,
      "outputs": []
    },
    {
      "metadata": {
        "trusted": true,
        "_uuid": "dffb1f3e19e19964995ac827bf55108b5815ff67"
      },
      "cell_type": "code",
      "source": "from sklearn.cross_validation import train_test_split\nX_train, X_test, y_train, y_test = train_test_split(X, y, test_size = 0.25, random_state = 0)",
      "execution_count": 17,
      "outputs": []
    },
    {
      "metadata": {
        "trusted": true,
        "_uuid": "7d4ed14782e114ae3282f20d3754121398e6d232"
      },
      "cell_type": "code",
      "source": "from sklearn.preprocessing import StandardScaler\nsc = StandardScaler()\nX_train = sc.fit_transform(X_train)\nX_test = sc.transform(X_test)",
      "execution_count": 18,
      "outputs": [
        {
          "output_type": "stream",
          "text": "/opt/conda/lib/python3.6/site-packages/sklearn/utils/validation.py:585: DataConversionWarning: Data with input dtype int64 was converted to float64 by StandardScaler.\n  warnings.warn(msg, DataConversionWarning)\n/opt/conda/lib/python3.6/site-packages/sklearn/utils/validation.py:585: DataConversionWarning: Data with input dtype int64 was converted to float64 by StandardScaler.\n  warnings.warn(msg, DataConversionWarning)\n/opt/conda/lib/python3.6/site-packages/sklearn/utils/validation.py:585: DataConversionWarning: Data with input dtype int64 was converted to float64 by StandardScaler.\n  warnings.warn(msg, DataConversionWarning)\n",
          "name": "stderr"
        }
      ]
    },
    {
      "metadata": {
        "trusted": true,
        "_uuid": "2ff7415e3e0e0673d59051cfe6154c63d3312a32"
      },
      "cell_type": "code",
      "source": "y_pred = []\nlen_x = len(X_train.shape)\nw = []\nb = 0.2\nprint(len_x)",
      "execution_count": 19,
      "outputs": [
        {
          "output_type": "stream",
          "text": "2\n",
          "name": "stdout"
        }
      ]
    },
    {
      "metadata": {
        "trusted": true,
        "_uuid": "a228174207f4631be4f26a0cc05e379f3f58aa56"
      },
      "cell_type": "code",
      "source": "entries = len(X_train[:,0])\nentries",
      "execution_count": 20,
      "outputs": [
        {
          "output_type": "execute_result",
          "execution_count": 20,
          "data": {
            "text/plain": "300"
          },
          "metadata": {}
        }
      ]
    },
    {
      "metadata": {
        "trusted": true,
        "_uuid": "5d4d6e47ee65c9c7404e60fcf8f05c11708546b3"
      },
      "cell_type": "code",
      "source": "for weights in range(len_x):\n    w.append(0)\nw",
      "execution_count": 21,
      "outputs": [
        {
          "output_type": "execute_result",
          "execution_count": 21,
          "data": {
            "text/plain": "[0, 0]"
          },
          "metadata": {}
        }
      ]
    },
    {
      "metadata": {
        "trusted": true,
        "collapsed": true,
        "_uuid": "18dbd2196d72527a82d30ab88ed2aa8d10bd01ce"
      },
      "cell_type": "code",
      "source": "def sigmoid(z):\n    return (1/(1+np.exp(-z)))",
      "execution_count": 22,
      "outputs": []
    },
    {
      "metadata": {
        "trusted": true,
        "_uuid": "daa0f87fdbf98591cb9f51b8dc7157dc399ca827",
        "collapsed": true
      },
      "cell_type": "code",
      "source": "def predict(inputs):\n    z = np.dot(w,inputs)+b\n    a = sigmoid(z)\n    return a",
      "execution_count": 23,
      "outputs": []
    },
    {
      "metadata": {
        "trusted": true,
        "_uuid": "4126f842d072ccd40019cc283b767a014e2ee074",
        "collapsed": true
      },
      "cell_type": "code",
      "source": "def loss_func(y,a):\n    J = -(y*np.log(a) + (1-y)*np.log(1-a))\n    return J         ",
      "execution_count": 24,
      "outputs": []
    },
    {
      "metadata": {
        "trusted": true,
        "collapsed": true,
        "_uuid": "fc0ceb65c69f4ee0c3f28e050744229dc90c621b"
      },
      "cell_type": "code",
      "source": "dw = []\ndb = 0\nJ = 0\nalpha = 0.1\nfor x in range(len_x):\n    dw.append(0)",
      "execution_count": 25,
      "outputs": []
    },
    {
      "metadata": {
        "trusted": true,
        "_uuid": "e4be38e9b500ae0c5a7134296a3055675c4fb2d8",
        "collapsed": true
      },
      "cell_type": "code",
      "source": "#Repeating this process 1000 times\nfor iterations in range(1000):\n    for i in range(entries):\n        localx = X_train[i]\n        a = predict(localx)   \n        dz = a - y_train[i]\n        J += loss_func(y_train[i],a)\n        for j in range(len_x):\n            dw[j] = dw[j]+(localx[j]*dz)\n        db += dz\n    J = J/entries\n    db = db/entries\n    for x in range(len_x):\n        dw[x]=dw[x]/entries\n    for x in range(len_x):\n        w[x] = w[x]-(alpha*dw[x])\n    b = b-(alpha*db)         \n    J=0",
      "execution_count": 26,
      "outputs": []
    },
    {
      "metadata": {
        "trusted": true,
        "_uuid": "5479ccb6073ed1ea310ef7de01b2935fc3ec400e"
      },
      "cell_type": "code",
      "source": "print(w)",
      "execution_count": 27,
      "outputs": [
        {
          "output_type": "stream",
          "text": "[2.2255967798023493, 1.191296482920891]\n",
          "name": "stdout"
        }
      ]
    },
    {
      "metadata": {
        "trusted": true,
        "_uuid": "a939c247b8a092f74c9843975612daa85c423621"
      },
      "cell_type": "code",
      "source": "print(b)",
      "execution_count": 28,
      "outputs": [
        {
          "output_type": "stream",
          "text": "-0.9884403792491633\n",
          "name": "stdout"
        }
      ]
    },
    {
      "metadata": {
        "trusted": true,
        "_uuid": "b7ae24169a21c7ac8ea0787f4a38a0de3e07a6b5",
        "collapsed": true
      },
      "cell_type": "code",
      "source": "for x in range(len(y_test)):\n    y_pred.append(predict(X_test[x]))",
      "execution_count": 29,
      "outputs": []
    },
    {
      "metadata": {
        "trusted": true,
        "_uuid": "967ad1b72305ad792a5d50e4d8b8a07632f7b241"
      },
      "cell_type": "code",
      "source": "for x in range(len(y_pred)):\n    print('Actual ',y_test[x],' Predicted ',y_pred[x])\n    if y_pred[x]>=0.5:\n        y_pred[x]=1\n    else:\n        y_pred[x]=0",
      "execution_count": 30,
      "outputs": [
        {
          "output_type": "stream",
          "text": "Actual  0  Predicted  0.10173957901916296\nActual  0  Predicted  0.15541379063749383\nActual  0  Predicted  0.18384857241488903\nActual  0  Predicted  0.07912036262040134\nActual  0  Predicted  0.08675047649964043\nActual  0  Predicted  0.00574648949617734\nActual  0  Predicted  0.011606945684409618\nActual  1  Predicted  0.7527138746162637\nActual  0  Predicted  0.004155480041646165\nActual  0  Predicted  0.5122778145635105\nActual  0  Predicted  0.029582541150851217\nActual  0  Predicted  0.023565655543652676\nActual  0  Predicted  0.14925396310879835\nActual  0  Predicted  0.3682375639324936\nActual  0  Predicted  0.011930655455900694\nActual  0  Predicted  0.33157969678699456\nActual  0  Predicted  0.2727733662729687\nActual  0  Predicted  0.009270658193881197\nActual  1  Predicted  0.9919762917091707\nActual  0  Predicted  0.034855150097174305\nActual  0  Predicted  0.07888516516136876\nActual  1  Predicted  0.9717389761934756\nActual  0  Predicted  0.26953193911503476\nActual  1  Predicted  0.8993991143520303\nActual  0  Predicted  0.0031452519124772816\nActual  1  Predicted  0.9796636038887162\nActual  0  Predicted  0.06793473617392691\nActual  0  Predicted  0.06659401700023508\nActual  0  Predicted  0.1826212353969033\nActual  0  Predicted  0.14532218547783657\nActual  0  Predicted  0.015872662926286595\nActual  1  Predicted  0.2866893047189076\nActual  1  Predicted  0.9448177183907364\nActual  0  Predicted  0.14069334191102803\nActual  0  Predicted  0.0109639051276801\nActual  0  Predicted  0.0023954303463027894\nActual  0  Predicted  0.015542276488821631\nActual  0  Predicted  0.05645740171056945\nActual  0  Predicted  0.02213465316947958\nActual  1  Predicted  0.561722786663025\nActual  0  Predicted  0.05706955196298304\nActual  0  Predicted  0.2763860960136149\nActual  0  Predicted  0.050074126681004125\nActual  0  Predicted  0.0326045297622893\nActual  1  Predicted  0.8250174643885305\nActual  0  Predicted  0.02102271938438788\nActual  0  Predicted  0.29380428129257596\nActual  1  Predicted  0.9412824002823448\nActual  0  Predicted  0.006506572490054516\nActual  1  Predicted  0.8781608855448623\nActual  1  Predicted  0.9931850264765307\nActual  0  Predicted  0.03113282312468459\nActual  0  Predicted  0.10791695630578803\nActual  0  Predicted  0.41840703342215496\nActual  1  Predicted  0.9859123077586001\nActual  1  Predicted  0.31612783513965304\nActual  0  Predicted  0.07333139304478255\nActual  0  Predicted  0.03552171564117892\nActual  1  Predicted  0.49296081614099446\nActual  0  Predicted  0.0023877181883826047\nActual  0  Predicted  0.015977730720195166\nActual  1  Predicted  0.9468417141436272\nActual  0  Predicted  0.0068105951479622276\nActual  1  Predicted  0.3914704905705284\nActual  0  Predicted  0.0012178941219179189\nActual  1  Predicted  0.9865598115862211\nActual  0  Predicted  0.031328420021407885\nActual  0  Predicted  0.02102271938438788\nActual  0  Predicted  0.2049625078870553\nActual  0  Predicted  0.46995036599948564\nActual  1  Predicted  0.6079616720402342\nActual  0  Predicted  0.19444085344971979\nActual  0  Predicted  0.00840709311494844\nActual  1  Predicted  0.24656471406186078\nActual  0  Predicted  0.05895689517162993\nActual  0  Predicted  0.0067220914561378076\nActual  0  Predicted  0.5474842955394206\nActual  0  Predicted  0.28770641400248975\nActual  1  Predicted  0.7428245699667233\nActual  1  Predicted  0.9054792256127866\nActual  1  Predicted  0.9974320295705272\nActual  0  Predicted  0.9833010376600336\nActual  0  Predicted  0.009895399977858014\nActual  0  Predicted  0.007723627940129937\nActual  1  Predicted  0.9089505969638616\nActual  1  Predicted  0.5560264161557731\nActual  0  Predicted  0.40408852633982956\nActual  1  Predicted  0.9966616077459093\nActual  1  Predicted  0.4401967508431139\nActual  0  Predicted  0.33489146647131973\nActual  0  Predicted  0.4188295262164803\nActual  1  Predicted  0.8025999210496174\nActual  0  Predicted  0.0062561004177693474\nActual  0  Predicted  0.005793535312887509\nActual  0  Predicted  0.026491126625933174\nActual  1  Predicted  0.07389062763617907\nActual  0  Predicted  0.010458454935853944\nActual  1  Predicted  0.48104226529411265\nActual  1  Predicted  0.8690835844193808\nActual  1  Predicted  0.7415417079385036\n",
          "name": "stdout"
        }
      ]
    },
    {
      "metadata": {
        "trusted": true,
        "_uuid": "a59807150900082ab876ef0200c6c7f8f93e098c"
      },
      "cell_type": "code",
      "source": "count = 0\nfor x in range(len(y_pred)):\n    if(y_pred[x]==y_test[x]):\n        count=count+1\nprint('Accuracy:',(count/(len(y_pred)))*100)",
      "execution_count": 33,
      "outputs": [
        {
          "output_type": "stream",
          "text": "Accuracy: 89.0\n",
          "name": "stdout"
        }
      ]
    }
  ],
  "metadata": {
    "kernelspec": {
      "display_name": "Python 3",
      "language": "python",
      "name": "python3"
    },
    "language_info": {
      "name": "python",
      "version": "3.6.6",
      "mimetype": "text/x-python",
      "codemirror_mode": {
        "name": "ipython",
        "version": 3
      },
      "pygments_lexer": "ipython3",
      "nbconvert_exporter": "python",
      "file_extension": ".py"
    }
  },
  "nbformat": 4,
  "nbformat_minor": 1
}